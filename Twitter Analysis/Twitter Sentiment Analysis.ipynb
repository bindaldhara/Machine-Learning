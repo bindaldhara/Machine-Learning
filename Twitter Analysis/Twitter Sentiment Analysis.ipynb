{
 "cells": [
  {
   "cell_type": "markdown",
   "id": "b22ae6fb",
   "metadata": {},
   "source": [
    "# Importing the required libraries"
   ]
  },
  {
   "cell_type": "code",
   "execution_count": 16,
   "id": "9e4b45f1",
   "metadata": {},
   "outputs": [],
   "source": [
    "import pandas as pd\n",
    "import numpy as np\n",
    "import seaborn as sns\n",
    "from nltk.tokenize import word_tokenize\n",
    "from nltk.stem import WordNetLemmatizer\n",
    "import string\n",
    "from nltk.corpus import stopwords\n",
    "from nltk import pos_tag\n",
    "from sklearn.feature_extraction.text import CountVectorizer\n",
    "from sklearn.naive_bayes import MultinomialNB\n",
    "from sklearn import tree\n",
    "from sklearn.ensemble import RandomForestClassifier"
   ]
  },
  {
   "cell_type": "code",
   "execution_count": 17,
   "id": "14d24c28",
   "metadata": {},
   "outputs": [
    {
     "data": {
      "text/html": [
       "<div>\n",
       "<style scoped>\n",
       "    .dataframe tbody tr th:only-of-type {\n",
       "        vertical-align: middle;\n",
       "    }\n",
       "\n",
       "    .dataframe tbody tr th {\n",
       "        vertical-align: top;\n",
       "    }\n",
       "\n",
       "    .dataframe thead th {\n",
       "        text-align: right;\n",
       "    }\n",
       "</style>\n",
       "<table border=\"1\" class=\"dataframe\">\n",
       "  <thead>\n",
       "    <tr style=\"text-align: right;\">\n",
       "      <th></th>\n",
       "      <th>tweet_id</th>\n",
       "      <th>airline_sentiment</th>\n",
       "      <th>airline</th>\n",
       "      <th>airline_sentiment_gold</th>\n",
       "      <th>name</th>\n",
       "      <th>negativereason_gold</th>\n",
       "      <th>retweet_count</th>\n",
       "      <th>text</th>\n",
       "      <th>tweet_coord</th>\n",
       "      <th>tweet_created</th>\n",
       "      <th>tweet_location</th>\n",
       "      <th>user_timezone</th>\n",
       "    </tr>\n",
       "  </thead>\n",
       "  <tbody>\n",
       "    <tr>\n",
       "      <th>0</th>\n",
       "      <td>567900433542488064</td>\n",
       "      <td>negative</td>\n",
       "      <td>Southwest</td>\n",
       "      <td>NaN</td>\n",
       "      <td>ColeyGirouard</td>\n",
       "      <td>NaN</td>\n",
       "      <td>0</td>\n",
       "      <td>@SouthwestAir I am scheduled for the morning, ...</td>\n",
       "      <td>NaN</td>\n",
       "      <td>2015-02-17 20:16:29 -0800</td>\n",
       "      <td>Washington D.C.</td>\n",
       "      <td>Atlantic Time (Canada)</td>\n",
       "    </tr>\n",
       "    <tr>\n",
       "      <th>1</th>\n",
       "      <td>569989168903819264</td>\n",
       "      <td>positive</td>\n",
       "      <td>Southwest</td>\n",
       "      <td>NaN</td>\n",
       "      <td>WalterFaddoul</td>\n",
       "      <td>NaN</td>\n",
       "      <td>0</td>\n",
       "      <td>@SouthwestAir seeing your workers time in and ...</td>\n",
       "      <td>NaN</td>\n",
       "      <td>2015-02-23 14:36:22 -0800</td>\n",
       "      <td>Indianapolis, Indiana; USA</td>\n",
       "      <td>Central Time (US &amp; Canada)</td>\n",
       "    </tr>\n",
       "    <tr>\n",
       "      <th>2</th>\n",
       "      <td>568089179520954368</td>\n",
       "      <td>positive</td>\n",
       "      <td>United</td>\n",
       "      <td>NaN</td>\n",
       "      <td>LocalKyle</td>\n",
       "      <td>NaN</td>\n",
       "      <td>0</td>\n",
       "      <td>@united Flew ORD to Miami and back and  had gr...</td>\n",
       "      <td>NaN</td>\n",
       "      <td>2015-02-18 08:46:29 -0800</td>\n",
       "      <td>Illinois</td>\n",
       "      <td>Central Time (US &amp; Canada)</td>\n",
       "    </tr>\n",
       "    <tr>\n",
       "      <th>3</th>\n",
       "      <td>568928195581513728</td>\n",
       "      <td>negative</td>\n",
       "      <td>Southwest</td>\n",
       "      <td>NaN</td>\n",
       "      <td>amccarthy19</td>\n",
       "      <td>NaN</td>\n",
       "      <td>0</td>\n",
       "      <td>@SouthwestAir @dultch97 that's horse radish 😤🐴</td>\n",
       "      <td>NaN</td>\n",
       "      <td>2015-02-20 16:20:26 -0800</td>\n",
       "      <td>NaN</td>\n",
       "      <td>Atlantic Time (Canada)</td>\n",
       "    </tr>\n",
       "    <tr>\n",
       "      <th>4</th>\n",
       "      <td>568594180014014464</td>\n",
       "      <td>negative</td>\n",
       "      <td>United</td>\n",
       "      <td>NaN</td>\n",
       "      <td>J_Okayy</td>\n",
       "      <td>NaN</td>\n",
       "      <td>0</td>\n",
       "      <td>@united so our flight into ORD was delayed bec...</td>\n",
       "      <td>NaN</td>\n",
       "      <td>2015-02-19 18:13:11 -0800</td>\n",
       "      <td>NaN</td>\n",
       "      <td>Eastern Time (US &amp; Canada)</td>\n",
       "    </tr>\n",
       "  </tbody>\n",
       "</table>\n",
       "</div>"
      ],
      "text/plain": [
       "             tweet_id airline_sentiment    airline airline_sentiment_gold  \\\n",
       "0  567900433542488064          negative  Southwest                    NaN   \n",
       "1  569989168903819264          positive  Southwest                    NaN   \n",
       "2  568089179520954368          positive     United                    NaN   \n",
       "3  568928195581513728          negative  Southwest                    NaN   \n",
       "4  568594180014014464          negative     United                    NaN   \n",
       "\n",
       "            name negativereason_gold  retweet_count  \\\n",
       "0  ColeyGirouard                 NaN              0   \n",
       "1  WalterFaddoul                 NaN              0   \n",
       "2      LocalKyle                 NaN              0   \n",
       "3    amccarthy19                 NaN              0   \n",
       "4        J_Okayy                 NaN              0   \n",
       "\n",
       "                                                text tweet_coord  \\\n",
       "0  @SouthwestAir I am scheduled for the morning, ...         NaN   \n",
       "1  @SouthwestAir seeing your workers time in and ...         NaN   \n",
       "2  @united Flew ORD to Miami and back and  had gr...         NaN   \n",
       "3     @SouthwestAir @dultch97 that's horse radish 😤🐴         NaN   \n",
       "4  @united so our flight into ORD was delayed bec...         NaN   \n",
       "\n",
       "               tweet_created              tweet_location  \\\n",
       "0  2015-02-17 20:16:29 -0800             Washington D.C.   \n",
       "1  2015-02-23 14:36:22 -0800  Indianapolis, Indiana; USA   \n",
       "2  2015-02-18 08:46:29 -0800                    Illinois   \n",
       "3  2015-02-20 16:20:26 -0800                         NaN   \n",
       "4  2015-02-19 18:13:11 -0800                         NaN   \n",
       "\n",
       "                user_timezone  \n",
       "0      Atlantic Time (Canada)  \n",
       "1  Central Time (US & Canada)  \n",
       "2  Central Time (US & Canada)  \n",
       "3      Atlantic Time (Canada)  \n",
       "4  Eastern Time (US & Canada)  "
      ]
     },
     "execution_count": 17,
     "metadata": {},
     "output_type": "execute_result"
    }
   ],
   "source": [
    "df_train = pd.read_csv('train.csv') # reading the training data given in the question\n",
    "df_train.head()"
   ]
  },
  {
   "cell_type": "code",
   "execution_count": 18,
   "id": "edaf77a5",
   "metadata": {},
   "outputs": [
    {
     "name": "stdout",
     "output_type": "stream",
     "text": [
      "(10980, 12)\n"
     ]
    }
   ],
   "source": [
    "print((df_train.shape))\n"
   ]
  },
  {
   "cell_type": "code",
   "execution_count": 19,
   "id": "69a0650a",
   "metadata": {},
   "outputs": [
    {
     "data": {
      "text/plain": [
       "<AxesSubplot: xlabel='airline_sentiment', ylabel='count'>"
      ]
     },
     "execution_count": 19,
     "metadata": {},
     "output_type": "execute_result"
    },
    {
     "data": {
      "image/png": "[encoded data removed]",
      "text/plain": [
       "<Figure size 640x480 with 1 Axes>"
      ]
     },
     "metadata": {},
     "output_type": "display_data"
    }
   ],
   "source": [
    "sns.countplot(x='airline_sentiment',data=df_train) # Visualising the sentiments count according to the text"
   ]
  },
  {
   "cell_type": "code",
   "execution_count": 20,
   "id": "54610bbb",
   "metadata": {},
   "outputs": [
    {
     "data": {
      "text/plain": [
       "array([['@SouthwestAir I am scheduled for the morning, 2 days after the fact, yes..not sure why my evening flight was the only one Cancelled Flightled',\n",
       "        'negative'],\n",
       "       ['@SouthwestAir seeing your workers time in and time out going above and beyond is why I love flying with you guys. Thank you!',\n",
       "        'positive'],\n",
       "       ['@united Flew ORD to Miami and back and  had great crew, service on both legs. THANKS',\n",
       "        'positive'],\n",
       "       ...,\n",
       "       ['@usairways the. Worst. Ever. #dca #customerservice', 'negative'],\n",
       "       ['@nrhodes85: look! Another apology. DO NOT FLY @USAirways',\n",
       "        'negative'],\n",
       "       ['@united you are by far the worst airline. 4 plane delays on 1 round trip flight. How is that possible.',\n",
       "        'negative']], dtype=object)"
      ]
     },
     "execution_count": 20,
     "metadata": {},
     "output_type": "execute_result"
    }
   ],
   "source": [
    "df_train = df_train[['text', 'airline_sentiment']] # Getting the column 'Text'(X train) and 'Airline Sentiment'(Y train)\n",
    "training_data = df_train.values \n",
    "training_data"
   ]
  },
  {
   "cell_type": "markdown",
   "id": "89cfd295",
   "metadata": {},
   "source": [
    "# Spliiting the text into words using NLTK"
   ]
  },
  {
   "cell_type": "code",
   "execution_count": 21,
   "id": "9e0543cb",
   "metadata": {},
   "outputs": [],
   "source": [
    "tweets_train = []\n",
    "for i in range(len(training_data)):\n",
    "    tweets_train.append([word_tokenize(training_data[i][0]), training_data[i][1]])  "
   ]
  },
  {
   "cell_type": "code",
   "execution_count": 22,
   "id": "4ebffe54",
   "metadata": {},
   "outputs": [
    {
     "data": {
      "text/plain": [
       "[['@',\n",
       "  'SouthwestAir',\n",
       "  'MCO-',\n",
       "  '&',\n",
       "  'gt',\n",
       "  ';',\n",
       "  'DCA',\n",
       "  'flight',\n",
       "  'almost',\n",
       "  'full',\n",
       "  'of',\n",
       "  'people',\n",
       "  'screwed',\n",
       "  'by',\n",
       "  'the',\n",
       "  'MSY-DCA',\n",
       "  'Cancelled',\n",
       "  'Flightation',\n",
       "  '.',\n",
       "  '@',\n",
       "  'united',\n",
       "  'and',\n",
       "  '@',\n",
       "  'USAirways',\n",
       "  'did',\n",
       "  \"n't\",\n",
       "  'Cancelled',\n",
       "  'Flight',\n",
       "  '.',\n",
       "  'SWA=mistake',\n",
       "  '.'],\n",
       " 'negative']"
      ]
     },
     "execution_count": 22,
     "metadata": {},
     "output_type": "execute_result"
    }
   ],
   "source": [
    "tweets_train[10]"
   ]
  },
  {
   "cell_type": "markdown",
   "id": "f72dc85c",
   "metadata": {},
   "source": [
    "# Cleaning the Words using WordNetLemmatizer in NLTK"
   ]
  },
  {
   "cell_type": "code",
   "execution_count": 23,
   "id": "d56d4ed6",
   "metadata": {},
   "outputs": [],
   "source": [
    "stops = set(stopwords.words('english')) # removing stopwords and the punctuation marks\n",
    "punctuations = list(string.punctuation)\n",
    "stops.update(punctuations) "
   ]
  },
  {
   "cell_type": "code",
   "execution_count": 24,
   "id": "5970239d",
   "metadata": {},
   "outputs": [],
   "source": [
    "from nltk.corpus import wordnet # Function for identifying the part of speech\n",
    "def get_simple_pos(tag):\n",
    "    if tag.startswith('J'):\n",
    "        return wordnet.ADJ\n",
    "    elif tag.startswith('V'):\n",
    "        return wordnet.VERB\n",
    "    elif tag.startswith('N'):\n",
    "        return wordnet.NOUN\n",
    "    elif tag.startswith('R'):\n",
    "        return wordnet.ADV\n",
    "    else:\n",
    "        return wordnet.NOUN"
   ]
  },
  {
   "cell_type": "code",
   "execution_count": 25,
   "id": "d7044614",
   "metadata": {},
   "outputs": [],
   "source": [
    "lemmatizer = WordNetLemmatizer()\n",
    "def clean_tweets(words):\n",
    "    output_words = []\n",
    "    for w in words:\n",
    "        if w.isalpha():\n",
    "            if w.lower() not in stops:\n",
    "                pos = pos_tag([w])\n",
    "                clean_word = lemmatizer.lemmatize(w, pos = get_simple_pos(pos[0][1]))\n",
    "                output_words.append(clean_word.lower())\n",
    "    return output_words"
   ]
  },
  {
   "cell_type": "code",
   "execution_count": 26,
   "id": "edbc9f6c",
   "metadata": {},
   "outputs": [
    {
     "name": "stderr",
     "output_type": "stream",
     "text": [
      "[nltk_data] Downloading package averaged_perceptron_tagger to\n",
      "[nltk_data]     C:\\Users\\HP\\AppData\\Roaming\\nltk_data...\n",
      "[nltk_data]   Package averaged_perceptron_tagger is already up-to-\n",
      "[nltk_data]       date!\n",
      "[nltk_data] Downloading package wordnet to\n",
      "[nltk_data]     C:\\Users\\HP\\AppData\\Roaming\\nltk_data...\n",
      "[nltk_data]   Package wordnet is already up-to-date!\n"
     ]
    },
    {
     "data": {
      "text/plain": [
       "True"
      ]
     },
     "execution_count": 26,
     "metadata": {},
     "output_type": "execute_result"
    }
   ],
   "source": [
    "import nltk\n",
    "nltk.download('averaged_perceptron_tagger')\n",
    "import nltk\n",
    "nltk.download('wordnet')\n"
   ]
  },
  {
   "cell_type": "code",
   "execution_count": 27,
   "id": "c2c3185a",
   "metadata": {},
   "outputs": [],
   "source": [
    "for i in range(len(tweets_train)):\n",
    "    tweets_train[i] = (clean_tweets(tweets_train[i][0]), tweets_train[i][1]) # calling the function on both the columns ie Text and Airlinr Sentiment"
   ]
  },
  {
   "cell_type": "code",
   "execution_count": 28,
   "id": "028e45cb",
   "metadata": {},
   "outputs": [
    {
     "data": {
      "text/plain": [
       "10980"
      ]
     },
     "execution_count": 28,
     "metadata": {},
     "output_type": "execute_result"
    }
   ],
   "source": [
    "len(tweets_train)"
   ]
  },
  {
   "cell_type": "code",
   "execution_count": 29,
   "id": "000df2cc",
   "metadata": {},
   "outputs": [],
   "source": [
    "y_train = [] # Sepearting the sentiment and tweet \n",
    "tweets = []\n",
    "for tweet, sentiment in tweets_train:\n",
    "    tweets.append(\" \".join(tweet))\n",
    "    y_train.append(sentiment)"
   ]
  },
  {
   "cell_type": "code",
   "execution_count": 30,
   "id": "3fa28f7a",
   "metadata": {},
   "outputs": [
    {
     "data": {
      "text/plain": [
       "array(['aa', 'able', 'absolute', 'absolutely', 'accept', 'acceptable',\n",
       "       'access', 'accommodate', 'account', 'actual', 'actually', 'add',\n",
       "       'address', 'advantage', 'advise', 'advisory', 'afternoon', 'agent',\n",
       "       'ago', 'ahead', 'air', 'aircraft', 'airline', 'airlines',\n",
       "       'airplane', 'airport', 'airway', 'airways', 'alert', 'allow',\n",
       "       'almost', 'alone', 'already', 'also', 'always', 'amaze', 'america',\n",
       "       'american', 'americanair', 'americanairlines', 'amp', 'angry',\n",
       "       'announce', 'announcement', 'another', 'answer', 'anymore',\n",
       "       'anyone', 'anything', 'anyway', 'anywhere', 'apologize', 'apology',\n",
       "       'app', 'apparently', 'apply', 'appreciate', 'area', 'around',\n",
       "       'arrival', 'arrive', 'asap', 'ask', 'assign', 'assist',\n",
       "       'assistance', 'atl', 'atlanta', 'attempt', 'attendant', 'attitude',\n",
       "       'austin', 'auto', 'automate', 'available', 'avgeek', 'award',\n",
       "       'away', 'awesome', 'awful', 'baby', 'back', 'bad',\n",
       "       'badcustomerservice', 'badservice', 'bag', 'baggage', 'bank', 'bc',\n",
       "       'become', 'begin', 'behind', 'believe', 'best', 'beyond', 'big',\n",
       "       'bin', 'birthday', 'bit', 'blame', 'blue', 'bna', 'board',\n",
       "       'boarding', 'book', 'booking', 'bos', 'boston', 'bother', 'bought',\n",
       "       'brand', 'break', 'bring', 'broke', 'broken', 'bs', 'btw',\n",
       "       'bumped', 'bus', 'business', 'busy', 'buy', 'bwi', 'ca', 'cabin',\n",
       "       'call', 'callback', 'cancelled', 'cant', 'captain', 'car', 'card',\n",
       "       'care', 'carrier', 'carry', 'case', 'catch', 'catering', 'cause',\n",
       "       'center', 'ceo', 'chance', 'change', 'character', 'charge',\n",
       "       'charlotte', 'check', 'checked', 'checkin', 'chicago', 'child',\n",
       "       'choice', 'choose', 'city', 'claim', 'class', 'clear', 'clearly',\n",
       "       'client', 'close', 'clothes', 'clt', 'club', 'code', 'coffee',\n",
       "       'cold', 'columbus', 'come', 'commercial', 'communication',\n",
       "       'companion', 'company', 'compensate', 'compensation', 'complain',\n",
       "       'complaint', 'complete', 'completely', 'computer', 'concern',\n",
       "       'condition', 'conf', 'confirm', 'confirmation', 'congrats',\n",
       "       'connect', 'connection', 'consider', 'contact', 'continue',\n",
       "       'control', 'cool', 'correct', 'cost', 'could', 'count', 'counter',\n",
       "       'counting', 'country', 'course', 'cover', 'crazy', 'credit',\n",
       "       'crew', 'cross', 'current', 'currently', 'cust', 'customer',\n",
       "       'customerservice', 'cut', 'daily', 'dallas', 'damage', 'damn',\n",
       "       'date', 'daughter', 'day', 'dc', 'dca', 'deal', 'definitely',\n",
       "       'degree', 'delay', 'delayed', 'deliver', 'delivery', 'delta',\n",
       "       'den', 'denver', 'deny', 'depart', 'department', 'departure',\n",
       "       'deplane', 'dept', 'desk', 'despite', 'destination',\n",
       "       'destinationdragons', 'detail', 'dfw', 'dfwairport', 'die',\n",
       "       'diego', 'difference', 'different', 'direct', 'disappointed',\n",
       "       'disconnect', 'discount', 'disgust', 'dividend', 'dm', 'do', 'dog',\n",
       "       'dollar', 'domestic', 'dont', 'door', 'double', 'dragon', 'drink',\n",
       "       'drive', 'drop', 'due', 'earlier', 'early', 'earn', 'easy', 'eat',\n",
       "       'effort', 'either', 'else', 'email', 'emergency', 'employee',\n",
       "       'empty', 'end', 'engine', 'enjoy', 'enough', 'enter',\n",
       "       'entertainment', 'entire', 'equipment', 'error', 'especially',\n",
       "       'even', 'ever', 'every', 'everyone', 'everything', 'ewr',\n",
       "       'exactly', 'excellent', 'except', 'excite', 'excuse', 'exit',\n",
       "       'expect', 'expensive', 'experience', 'experienced', 'expire',\n",
       "       'explain', 'explanation', 'extend', 'extra', 'extremely', 'face',\n",
       "       'fact', 'fail', 'failure', 'fair', 'family', 'fan', 'fantastic',\n",
       "       'far', 'fare', 'fast', 'fault', 'favorite', 'feb', 'fee',\n",
       "       'feedback', 'feel', 'figure', 'file', 'fill', 'final', 'finally',\n",
       "       'find', 'fine', 'first', 'fit', 'fix', 'fl', 'fleek', 'fleet',\n",
       "       'flew', 'flight', 'flightd', 'flighted', 'flighting',\n",
       "       'flightlation', 'flightlations', 'flightled', 'flightling',\n",
       "       'flightr', 'flights', 'fll', 'florida', 'flown', 'flt', 'fly',\n",
       "       'flyer', 'flying', 'folk', 'follow', 'food', 'force', 'forget',\n",
       "       'forgot', 'form', 'forward', 'found', 'four', 'free', 'freeze',\n",
       "       'frequent', 'friday', 'friend', 'friendly', 'front', 'frustrate',\n",
       "       'frustration', 'fuck', 'full', 'fun', 'funeral', 'funny', 'future',\n",
       "       'fyi', 'game', 'gate', 'get', 'give', 'glad', 'go', 'god', 'going',\n",
       "       'gold', 'gon', 'good', 'got', 'gotten', 'great', 'ground', 'group',\n",
       "       'gt', 'guess', 'guy', 'haha', 'half', 'hand', 'handle', 'hang',\n",
       "       'happen', 'happens', 'happy', 'hard', 'hate', 'head', 'hear',\n",
       "       'heard', 'held', 'hell', 'hello', 'help', 'helpful', 'hey', 'hi',\n",
       "       'high', 'hire', 'hold', 'home', 'honor', 'hop', 'hope',\n",
       "       'hopefully', 'horrible', 'hotel', 'hour', 'houston', 'however',\n",
       "       'hr', 'http', 'huge', 'human', 'hung', 'husband', 'iad', 'iah',\n",
       "       'ice', 'id', 'idea', 'im', 'imagine', 'imaginedragons',\n",
       "       'impossible', 'impressed', 'include', 'inconvenience',\n",
       "       'incredibly', 'infant', 'inflight', 'info', 'inform',\n",
       "       'information', 'inside', 'instead', 'international', 'internet',\n",
       "       'iphone', 'issue', 'item', 'itinerary', 'jblu', 'jet', 'jetblue',\n",
       "       'jfk', 'job', 'joke', 'keep', 'kept', 'kid', 'kill', 'kind',\n",
       "       'knew', 'know', 'kudos', 'la', 'lack', 'lady', 'land', 'large',\n",
       "       'las', 'last', 'late', 'lax', 'layover', 'learn', 'least', 'leave',\n",
       "       'left', 'leg', 'legroom', 'less', 'let', 'letter', 'level', 'lga',\n",
       "       'lie', 'life', 'like', 'likely', 'line', 'link', 'list', 'listen',\n",
       "       'literally', 'little', 'live', 'load', 'locate', 'lol', 'long',\n",
       "       'longer', 'look', 'looking', 'looks', 'lose', 'lot', 'lots',\n",
       "       'lounge', 'love', 'low', 'loyal', 'lt', 'luck', 'luggage', 'luv',\n",
       "       'mad', 'made', 'mail', 'maintenance', 'major', 'make', 'makes',\n",
       "       'man', 'manage', 'many', 'march', 'match', 'matter', 'may',\n",
       "       'maybe', 'mco', 'meal', 'mean', 'mechanical', 'medium', 'meeting',\n",
       "       'member', 'mention', 'merge', 'merger', 'mess', 'message',\n",
       "       'mexico', 'mia', 'miami', 'middle', 'might', 'mile', 'mileage',\n",
       "       'mileageplus', 'min', 'mind', 'mine', 'minute', 'miss', 'missed',\n",
       "       'mistake', 'mobile', 'mom', 'monday', 'money', 'month', 'morning',\n",
       "       'move', 'msg', 'much', 'multiple', 'music', 'must', 'na', 'name',\n",
       "       'nashville', 'need', 'never', 'neveragain', 'new', 'newark',\n",
       "       'news', 'next', 'nice', 'night', 'nightmare', 'non', 'none',\n",
       "       'nonstop', 'nope', 'note', 'nothing', 'notice', 'notification',\n",
       "       'notify', 'number', 'ny', 'nyc', 'offer', 'offering', 'office',\n",
       "       'officially', 'oh', 'ok', 'okay', 'old', 'omg', 'onboard', 'one',\n",
       "       'online', 'onto', 'open', 'option', 'ord', 'order', 'original',\n",
       "       'orlando', 'others', 'outside', 'overbooked', 'overhead',\n",
       "       'overnight', 'page', 'paid', 'part', 'partner', 'party', 'pas',\n",
       "       'pass', 'passbook', 'passenger', 'past', 'pathetic', 'pay', 'pdx',\n",
       "       'people', 'per', 'perhaps', 'person', 'personal', 'philadelphia',\n",
       "       'philly', 'phl', 'phlairport', 'phoenix', 'phone', 'photo', 'phx',\n",
       "       'pick', 'picked', 'picture', 'pilot', 'place', 'plan', 'plane',\n",
       "       'platinum', 'play', 'please', 'pls', 'plus', 'plz', 'pm', 'point',\n",
       "       'policy', 'poor', 'possible', 'post', 'power', 'ppl', 'prefer',\n",
       "       'premier', 'pretty', 'price', 'priority', 'probably', 'problem',\n",
       "       'problems', 'process', 'professional', 'program', 'promise',\n",
       "       'prompt', 'provide', 'pull', 'purchase', 'push', 'put', 'question',\n",
       "       'quick', 'raise', 'rate', 'rather', 'rdu', 'reach', 'read',\n",
       "       'ready', 'real', 'realize', 'really', 'reason', 'rebook',\n",
       "       'rebooked', 'receipt', 'receive', 'record', 'red', 'redeem',\n",
       "       'reflight', 'refund', 'refuse', 'regard', 'reimburse', 'relation',\n",
       "       'remember', 'rep', 'reply', 'report', 'representative', 'request',\n",
       "       'require', 'reschedule', 'reservation', 'resolution', 'resolve',\n",
       "       'respond', 'response', 'return', 'ride', 'ridiculous', 'right',\n",
       "       'rock', 'room', 'round', 'route', 'row', 'rt', 'rude', 'ruin',\n",
       "       'rule', 'run', 'runway', 'sad', 'safe', 'safety', 'san', 'sat',\n",
       "       'saturday', 'save', 'saw', 'say', 'schedule', 'screw', 'seat',\n",
       "       'seattle', 'second', 'security', 'see', 'seem', 'select', 'sell',\n",
       "       'send', 'sense', 'sent', 'serious', 'seriously', 'serve',\n",
       "       'service', 'set', 'several', 'sfo', 'share', 'shit', 'short',\n",
       "       'show', 'sick', 'sign', 'simply', 'since', 'single', 'sit', 'site',\n",
       "       'situation', 'sky', 'sleep', 'slow', 'small', 'smh', 'snack',\n",
       "       'snow', 'social', 'solution', 'someone', 'something', 'son',\n",
       "       'soon', 'sorry', 'sort', 'sound', 'south', 'southwest',\n",
       "       'southwestair', 'space', 'speak', 'special', 'spend', 'spent',\n",
       "       'spoke', 'staff', 'stand', 'standby', 'start', 'state', 'status',\n",
       "       'stay', 'step', 'still', 'stop', 'storm', 'story', 'strand',\n",
       "       'stuck', 'stuff', 'submit', 'suck', 'suggest', 'suggestion',\n",
       "       'sunday', 'super', 'supervisor', 'support', 'suppose', 'sure',\n",
       "       'surprise', 'svc', 'sw', 'swa', 'sweet', 'switch', 'system', 'ta',\n",
       "       'tag', 'take', 'takeoff', 'talk', 'tarmac', 'taxi', 'team', 'tell',\n",
       "       'terminal', 'terrible', 'text', 'thank', 'thanks', 'thing',\n",
       "       'think', 'tho', 'though', 'thought', 'three', 'thru', 'thx',\n",
       "       'ticket', 'till', 'time', 'tire', 'tix', 'tmrw', 'today',\n",
       "       'together', 'told', 'tomorrow', 'tonight', 'top', 'total',\n",
       "       'totally', 'touch', 'track', 'traffic', 'train', 'training',\n",
       "       'transfer', 'travel', 'traveler', 'treat', 'tried', 'trip',\n",
       "       'trouble', 'true', 'trust', 'try', 'trying', 'tsa', 'tuesday',\n",
       "       'turn', 'tv', 'tweet', 'twice', 'twitter', 'two', 'ua', 'ugh',\n",
       "       'unable', 'unacceptable', 'unbelievable', 'understand',\n",
       "       'unfortunately', 'unhappy', 'unhelpful', 'united',\n",
       "       'unitedairlines', 'update', 'upgrade', 'upgraded', 'upset', 'ur',\n",
       "       'us', 'usair', 'usairways', 'usairwaysfail', 'use', 'useless',\n",
       "       'vacation', 'vegas', 'via', 'video', 'view', 'virgin',\n",
       "       'virginamerica', 'visit', 'volume', 'voucher', 'wait', 'waiting',\n",
       "       'waive', 'walk', 'wall', 'want', 'warm', 'waste', 'watch', 'water',\n",
       "       'way', 'weather', 'web', 'website', 'wedding', 'wednesday', 'week',\n",
       "       'weekend', 'welcome', 'well', 'whole', 'wife', 'wifi', 'willing',\n",
       "       'win', 'window', 'winter', 'wish', 'within', 'without', 'wo',\n",
       "       'woman', 'wonder', 'wonderful', 'wont', 'word', 'work', 'world',\n",
       "       'worry', 'worst', 'worth', 'would', 'wow', 'write', 'wrong', 'wtf',\n",
       "       'yall', 'yeah', 'year', 'yep', 'yes', 'yesterday', 'yet', 'yr',\n",
       "       'zero'], dtype=object)"
      ]
     },
     "execution_count": 30,
     "metadata": {},
     "output_type": "execute_result"
    }
   ],
   "source": [
    "count_vec = CountVectorizer(max_features=1000) #Using Count Vectorizer to get X-Train\n",
    "x_train_features = count_vec.fit_transform(tweets)\n",
    "count_vec.get_feature_names_out()"
   ]
  },
  {
   "cell_type": "markdown",
   "id": "873faff3",
   "metadata": {},
   "source": [
    "# Check on testing data"
   ]
  },
  {
   "cell_type": "code",
   "execution_count": 31,
   "id": "f020d4e4",
   "metadata": {},
   "outputs": [],
   "source": [
    "df_test = pd.read_csv('test.csv')"
   ]
  },
  {
   "cell_type": "code",
   "execution_count": 32,
   "id": "858725f6",
   "metadata": {},
   "outputs": [],
   "source": [
    "testing_data = np.array(df_test['text'])"
   ]
  },
  {
   "cell_type": "code",
   "execution_count": 33,
   "id": "a538efb8",
   "metadata": {},
   "outputs": [],
   "source": [
    "tweets_test = []\n",
    "for t in testing_data:\n",
    "    t = clean_tweets(word_tokenize(t))\n",
    "    tweets_test.append(\" \".join(t))\n",
    "x_test_features = count_vec.transform(tweets_test)"
   ]
  },
  {
   "cell_type": "markdown",
   "id": "36bcbf42",
   "metadata": {},
   "source": [
    "# Applying the models"
   ]
  },
  {
   "cell_type": "markdown",
   "id": "19e16379",
   "metadata": {},
   "source": [
    "Multinomial Naive Bayes Model "
   ]
  },
  {
   "cell_type": "code",
   "execution_count": 34,
   "id": "02f795a4",
   "metadata": {},
   "outputs": [],
   "source": [
    "mnv = MultinomialNB(alpha = 1)\n",
    "mnv.fit(x_train_features, y_train)\n",
    "\n",
    "y_pred_mnv = mnv.predict(x_test_features)\n",
    "\n",
    "df = pd.DataFrame(y_pred_mnv)\n",
    "df.to_csv('pred_mnv.csv', index = False, header = False)"
   ]
  },
  {
   "cell_type": "markdown",
   "id": "a8669cc7",
   "metadata": {},
   "source": [
    "Decision Tree Model"
   ]
  },
  {
   "cell_type": "code",
   "execution_count": 35,
   "id": "4ebbf232",
   "metadata": {},
   "outputs": [],
   "source": [
    "dt = tree.DecisionTreeClassifier()\n",
    "dt.fit(x_train_features, y_train)\n",
    "\n",
    "y_pred_dt = dt.predict(x_test_features)\n",
    "\n",
    "df = pd.DataFrame(y_pred_dt)\n",
    "df.to_csv('pred_dt.csv', index = False, header = False)"
   ]
  },
  {
   "cell_type": "markdown",
   "id": "3f36d994",
   "metadata": {},
   "source": [
    "Random Forest Classifier Model"
   ]
  },
  {
   "cell_type": "code",
   "execution_count": 36,
   "id": "55bafb09",
   "metadata": {},
   "outputs": [],
   "source": [
    "rf = RandomForestClassifier()\n",
    "rf.fit(x_train_features, y_train)\n",
    "\n",
    "y_pred_rf = rf.predict(x_test_features)\n",
    "df = pd.DataFrame(y_pred_rf)\n",
    "\n",
    "df.to_csv('predictions_rf.csv', index = False, header = False)"
   ]
  },
  {
   "cell_type": "code",
   "execution_count": null,
   "id": "1736f4ca",
   "metadata": {},
   "outputs": [],
   "source": []
  }
 ],
 "metadata": {
  "kernelspec": {
   "display_name": "Python 3 (ipykernel)",
   "language": "python",
   "name": "python3"
  },
  "language_info": {
   "codemirror_mode": {
    "name": "ipython",
    "version": 3
   },
   "file_extension": ".py",
   "mimetype": "text/x-python",
   "name": "python",
   "nbconvert_exporter": "python",
   "pygments_lexer": "ipython3",
   "version": "3.9.6"
  }
 },
 "nbformat": 4,
 "nbformat_minor": 5
}
